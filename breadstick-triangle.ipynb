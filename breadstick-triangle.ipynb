{
 "cells": [
  {
   "cell_type": "code",
   "execution_count": 70,
   "metadata": {},
   "outputs": [],
   "source": [
    "import random\n",
    "\n",
    "def sliceBar(bar):\n",
    "    b_point = random.randint(1, bar - 1)\n",
    "    return b_point, bar - b_point\n",
    "    \n",
    "\n",
    "def sliceTwoTime(bar, smart=False):\n",
    "    first, second = sliceBar(bar)\n",
    "\n",
    "    if smart or min(first, second) == 1:\n",
    "        first_ret = min(first, second)\n",
    "        to_slice = max(first, second)\n",
    "        second_ret, third_ret = sliceBar(to_slice)\n",
    "        return first_ret, second_ret, third_ret\n",
    "    else:\n",
    "        to_slice = random.randint(0, 1)\n",
    "        first_ret = first if to_slice == 1 else second\n",
    "        \n",
    "        second_ret, third_ret = sliceBar([first, second][to_slice])\n",
    "        return first_ret, second_ret, third_ret\n",
    "    \n",
    "\n",
    "def validTriangle(verts):\n",
    "    verts.sort()   \n",
    "\n",
    "    return sum(verts[:-1]) >= verts[-1]\n",
    "    \n"
   ]
  },
  {
   "cell_type": "code",
   "execution_count": 86,
   "metadata": {},
   "outputs": [
    {
     "name": "stdout",
     "output_type": "stream",
     "text": [
      "19.519000000000002\n"
     ]
    }
   ],
   "source": [
    "grissino = 1000\n",
    "\n",
    "cnt = 0\n",
    "tests = 100000\n",
    "\n",
    "for i in range(tests):\n",
    "    if validTriangle(list(sliceTwoTime(grissino))):\n",
    "        cnt = cnt+1\n",
    "        \n",
    "print(cnt / tests * 100)"
   ]
  },
  {
   "cell_type": "code",
   "execution_count": 87,
   "metadata": {},
   "outputs": [
    {
     "name": "stdout",
     "output_type": "stream",
     "text": [
      "19.591\n"
     ]
    }
   ],
   "source": [
    "grissino = 2000\n",
    "\n",
    "cnt = 0\n",
    "tests = 100000\n",
    "\n",
    "for i in range(tests):\n",
    "    if validTriangle(list(sliceTwoTime(grissino))):\n",
    "        cnt = cnt+1\n",
    "        \n",
    "print(cnt / tests * 100)"
   ]
  },
  {
   "cell_type": "code",
   "execution_count": 88,
   "metadata": {},
   "outputs": [
    {
     "name": "stdout",
     "output_type": "stream",
     "text": [
      "38.696000000000005\n"
     ]
    }
   ],
   "source": [
    "grissino = 1000\n",
    "\n",
    "cnt = 0\n",
    "tests = 100000\n",
    "\n",
    "\n",
    "for i in range(tests):\n",
    "    if validTriangle(list(sliceTwoTime(grissino, smart=True))):\n",
    "        cnt = cnt+1\n",
    "        \n",
    "print(cnt / tests * 100)"
   ]
  },
  {
   "cell_type": "code",
   "execution_count": null,
   "metadata": {},
   "outputs": [],
   "source": []
  }
 ],
 "metadata": {
  "kernelspec": {
   "display_name": "Python 3",
   "language": "python",
   "name": "python3"
  },
  "language_info": {
   "codemirror_mode": {
    "name": "ipython",
    "version": 3
   },
   "file_extension": ".py",
   "mimetype": "text/x-python",
   "name": "python",
   "nbconvert_exporter": "python",
   "pygments_lexer": "ipython3",
   "version": "3.7.1"
  }
 },
 "nbformat": 4,
 "nbformat_minor": 2
}
